{
 "cells": [
  {
   "cell_type": "markdown",
   "metadata": {},
   "source": [
    "# Лабораторная работа №4"
   ]
  },
  {
   "cell_type": "markdown",
   "metadata": {},
   "source": [
    "## Стрекнев Д. СКБ172"
   ]
  },
  {
   "cell_type": "markdown",
   "metadata": {},
   "source": [
    "### Первый метод ГПСЧ:"
   ]
  },
  {
   "cell_type": "code",
   "execution_count": 24,
   "metadata": {},
   "outputs": [],
   "source": [
    "import datetime\n",
    "def gen1(n):\n",
    "    # принимает количество чисел (n), возвращает массив из n чисел (s)\n",
    "    s=[]\n",
    "    now = datetime.datetime.now()\n",
    "    r = now.second**10\n",
    "    for i in range(n):\n",
    "        now = datetime.datetime.now()\n",
    "        r = (r * now.hour + now.minute) % (now.microsecond*3 + 1)\n",
    "        s.append(r)\n",
    "    return(s)"
   ]
  },
  {
   "cell_type": "markdown",
   "metadata": {},
   "source": [
    "### Второй метод ГПСЧ:"
   ]
  },
  {
   "cell_type": "code",
   "execution_count": 25,
   "metadata": {},
   "outputs": [],
   "source": [
    "def gen2(n):\n",
    "    # принимает количество чисел (n), возвращает массив из n чисел (s)\n",
    "    s=[]\n",
    "    now = datetime.datetime.now()\n",
    "    r=now.second**10\n",
    "    for i in range(n):\n",
    "        now = datetime.datetime.now()\n",
    "        r = (r*r*now.second + r*now.minute + now.hour) % (now.microsecond*3 + 1)\n",
    "        s.append(r)\n",
    "    return(s)"
   ]
  },
  {
   "cell_type": "markdown",
   "metadata": {},
   "source": [
    "### Функция считающая мат ожидание выборки"
   ]
  },
  {
   "cell_type": "code",
   "execution_count": 9,
   "metadata": {},
   "outputs": [],
   "source": [
    "def EV(s):\n",
    "    # принимает массив чисел (s), возвращает мат ожидание\n",
    "    sum = 0\n",
    "    for i in s:\n",
    "        sum = sum + i/3000000\n",
    "    return(sum/len(s))"
   ]
  },
  {
   "cell_type": "markdown",
   "metadata": {},
   "source": [
    "### Функция считающая дисперсию выборки"
   ]
  },
  {
   "cell_type": "code",
   "execution_count": 10,
   "metadata": {},
   "outputs": [],
   "source": [
    "def D(s):\n",
    "    # принимает массив чисел (s), возвращает дисперсию\n",
    "    sum = 0\n",
    "    for i in s:\n",
    "        sum = sum + (i/3000000 - EV(s))**2\n",
    "    return(sum/len(s))"
   ]
  },
  {
   "cell_type": "markdown",
   "metadata": {},
   "source": [
    "### Функция считающая среднеквадратичное отклонение"
   ]
  },
  {
   "cell_type": "code",
   "execution_count": 11,
   "metadata": {},
   "outputs": [],
   "source": [
    "def Dev(s):\n",
    "    # принимает массив чисел (s), возвращает среднеквадратичное отклонение\n",
    "    return(D(s)**0.5)"
   ]
  },
  {
   "cell_type": "markdown",
   "metadata": {},
   "source": [
    "### Функция считающая значение хи-квадрат от выборки"
   ]
  },
  {
   "cell_type": "code",
   "execution_count": 12,
   "metadata": {},
   "outputs": [],
   "source": [
    "import math\n",
    "def hi_sq(s):\n",
    "    # принимает массив чисел (s), возвращает экспериментальное значение хи-квадрат (hisq)\n",
    "    k = 1 + math.log2(len(s))\n",
    "    r = 1000000*3 / k\n",
    "    hisq = 0\n",
    "    for i in range(0, int(r*k)+1, int(r)):\n",
    "        n = 0\n",
    "        for z in s:\n",
    "            if (z >= i) and (z < i+r):\n",
    "                n = n + 1\n",
    "        hisq = hisq + (n**2) * k\n",
    "    hisq = hisq / len(s) - len(s)\n",
    "    return hisq\n",
    "                "
   ]
  },
  {
   "cell_type": "markdown",
   "metadata": {},
   "source": [
    "### Тесты"
   ]
  },
  {
   "cell_type": "code",
   "execution_count": 13,
   "metadata": {},
   "outputs": [],
   "source": [
    "def test(s):\n",
    "    # принимает выборку (s), выводит мат ожидание, дисперсию, среднеквадратичное отклонение и значение хи-квадрат\n",
    "    print('Мат ожидание: ', EV(s))\n",
    "    print('Дисперсия: ', D(s))\n",
    "    print('Cреднеквадратичное отклонение: ', Dev(s))\n",
    "    print('Значение хи-квадрат: ', hi_sq(s))"
   ]
  },
  {
   "cell_type": "code",
   "execution_count": 118,
   "metadata": {},
   "outputs": [
    {
     "name": "stdout",
     "output_type": "stream",
     "text": [
      "Эталонное мат ожидание: 0.5\n",
      "Эталонная дисперсия: 0.0833\n",
      "Эталонное среднеквадратичное отклонение: 0.2887\n",
      "Хи-квадрат от 37,6886 до 63,1671\n"
     ]
    }
   ],
   "source": [
    "print('Эталонное мат ожидание: 0.5')\n",
    "print('Эталонная дисперсия: 0.0833')\n",
    "print('Эталонное среднеквадратичное отклонение: 0.2887')\n",
    "print('Хи-квадрат от 37,6886 до 63,1671')"
   ]
  },
  {
   "cell_type": "code",
   "execution_count": 99,
   "metadata": {},
   "outputs": [
    {
     "name": "stdout",
     "output_type": "stream",
     "text": [
      "Мат ожидание:  0.3142108733333333\n",
      "Дисперсия:  0.024515052902728405\n",
      "Cреднеквадратичное отклонение:  0.15657283577532982\n",
      "Значение хи-квадрат:  41.685215418891204\n"
     ]
    }
   ],
   "source": [
    "test(gen1(50))"
   ]
  },
  {
   "cell_type": "code",
   "execution_count": 109,
   "metadata": {},
   "outputs": [
    {
     "name": "stdout",
     "output_type": "stream",
     "text": [
      "Мат ожидание:  0.32520961333333326\n",
      "Дисперсия:  0.02535765968658382\n",
      "Cреднеквадратичное отклонение:  0.1592408857253181\n",
      "Значение хи-квадрат:  35.30711347670747\n"
     ]
    }
   ],
   "source": [
    "test(gen1(50))"
   ]
  },
  {
   "cell_type": "code",
   "execution_count": 123,
   "metadata": {},
   "outputs": [
    {
     "name": "stdout",
     "output_type": "stream",
     "text": [
      "Мат ожидание:  0.29120973333333333\n",
      "Дисперсия:  0.03106832360555999\n",
      "Cреднеквадратичное отклонение:  0.17626208782821107\n",
      "Значение хи-квадрат:  32.38381675320659\n"
     ]
    }
   ],
   "source": [
    "test(gen1(50))"
   ]
  },
  {
   "cell_type": "code",
   "execution_count": 121,
   "metadata": {},
   "outputs": [
    {
     "name": "stdout",
     "output_type": "stream",
     "text": [
      "Мат ожидание:  0.3511307799999999\n",
      "Дисперсия:  0.024432560580531594\n",
      "Cреднеквадратичное отклонение:  0.15630918264942592\n",
      "Значение хи-квадрат:  37.16739320984439\n"
     ]
    }
   ],
   "source": [
    "test(gen1(50))"
   ]
  },
  {
   "cell_type": "code",
   "execution_count": 126,
   "metadata": {},
   "outputs": [
    {
     "name": "stdout",
     "output_type": "stream",
     "text": [
      "Мат ожидание:  0.22730393999999998\n",
      "Дисперсия:  0.0162388769787364\n",
      "Cреднеквадратичное отклонение:  0.1274318522926525\n",
      "Значение хи-квадрат:  61.08527549303341\n"
     ]
    }
   ],
   "source": [
    "test(gen1(50))"
   ]
  },
  {
   "cell_type": "code",
   "execution_count": 127,
   "metadata": {},
   "outputs": [
    {
     "name": "stdout",
     "output_type": "stream",
     "text": [
      "Мат ожидание:  0.2770445133333334\n",
      "Дисперсия:  0.0345846424619876\n",
      "Cреднеквадратичное отклонение:  0.18596946647766563\n",
      "Значение хи-квадрат:  37.69890170502636\n"
     ]
    }
   ],
   "source": [
    "test(gen1(50))"
   ]
  },
  {
   "cell_type": "code",
   "execution_count": 128,
   "metadata": {},
   "outputs": [
    {
     "name": "stdout",
     "output_type": "stream",
     "text": [
      "Мат ожидание:  0.2856245000000001\n",
      "Дисперсия:  0.027432405497849997\n",
      "Cреднеквадратичное отклонение:  0.16562730903401768\n",
      "Значение хи-квадрат:  34.77560498152549\n"
     ]
    }
   ],
   "source": [
    "test(gen1(50))"
   ]
  },
  {
   "cell_type": "code",
   "execution_count": 129,
   "metadata": {},
   "outputs": [
    {
     "name": "stdout",
     "output_type": "stream",
     "text": [
      "Мат ожидание:  0.35325061333333346\n",
      "Дисперсия:  0.03326615173912161\n",
      "Cреднеквадратичное отклонение:  0.18239010866579802\n",
      "Значение хи-квадрат:  27.334486048977794\n"
     ]
    }
   ],
   "source": [
    "test(gen1(50))"
   ]
  },
  {
   "cell_type": "code",
   "execution_count": 133,
   "metadata": {},
   "outputs": [
    {
     "name": "stdout",
     "output_type": "stream",
     "text": [
      "Мат ожидание:  0.25011447333333336\n",
      "Дисперсия:  0.024440100352475947\n",
      "Cреднеквадратичное отклонение:  0.15633329892404862\n",
      "Значение хи-квадрат:  43.811249399619115\n"
     ]
    }
   ],
   "source": [
    "test(gen1(50))"
   ]
  },
  {
   "cell_type": "code",
   "execution_count": 139,
   "metadata": {},
   "outputs": [
    {
     "name": "stdout",
     "output_type": "stream",
     "text": [
      "Мат ожидание:  0.29315618000000004\n",
      "Дисперсия:  0.02137473545394315\n",
      "Cреднеквадратичное отклонение:  0.14620101044091025\n",
      "Значение хи-квадрат:  39.824935685754284\n"
     ]
    }
   ],
   "source": [
    "test(gen1(50))"
   ]
  },
  {
   "cell_type": "code",
   "execution_count": 140,
   "metadata": {},
   "outputs": [
    {
     "name": "stdout",
     "output_type": "stream",
     "text": [
      "Мат ожидание:  0.3923550066666666\n",
      "Дисперсия:  0.06079737643642885\n",
      "Cреднеквадратичное отклонение:  0.24657124008373088\n",
      "Значение хи-квадрат:  8.73168871760857\n"
     ]
    }
   ],
   "source": [
    "test(gen2(50))"
   ]
  },
  {
   "cell_type": "code",
   "execution_count": 144,
   "metadata": {},
   "outputs": [
    {
     "name": "stdout",
     "output_type": "stream",
     "text": [
      "Мат ожидание:  0.3755296133333333\n",
      "Дисперсия:  0.05022933357664158\n",
      "Cреднеквадратичное отклонение:  0.22411901654398178\n",
      "Значение хи-квадрат:  18.83035012606615\n"
     ]
    }
   ],
   "source": [
    "test(gen2(50))"
   ]
  },
  {
   "cell_type": "code",
   "execution_count": 146,
   "metadata": {},
   "outputs": [
    {
     "name": "stdout",
     "output_type": "stream",
     "text": [
      "Мат ожидание:  0.3281518666666666\n",
      "Дисперсия:  0.045080672200471114\n",
      "Cреднеквадратичное отклонение:  0.21232209541277403\n",
      "Значение хи-квадрат:  22.285155344749\n"
     ]
    }
   ],
   "source": [
    "test(gen2(50))"
   ]
  },
  {
   "cell_type": "code",
   "execution_count": 148,
   "metadata": {},
   "outputs": [
    {
     "name": "stdout",
     "output_type": "stream",
     "text": [
      "Мат ожидание:  0.2500023666666667\n",
      "Дисперсия:  0.020497059401121107\n",
      "Cреднеквадратичное отклонение:  0.14316794124775667\n",
      "Значение хи-квадрат:  49.126334351438885\n"
     ]
    }
   ],
   "source": [
    "test(gen2(50))"
   ]
  },
  {
   "cell_type": "code",
   "execution_count": 149,
   "metadata": {},
   "outputs": [
    {
     "name": "stdout",
     "output_type": "stream",
     "text": [
      "Мат ожидание:  0.2817918466666667\n",
      "Дисперсия:  0.02823617652868537\n",
      "Cреднеквадратичное отклонение:  0.16803623576087798\n",
      "Значение хи-квадрат:  32.91532524838857\n"
     ]
    }
   ],
   "source": [
    "test(gen2(50))"
   ]
  },
  {
   "cell_type": "code",
   "execution_count": 150,
   "metadata": {},
   "outputs": [
    {
     "name": "stdout",
     "output_type": "stream",
     "text": [
      "Мат ожидание:  0.33733572666666667\n",
      "Дисперсия:  0.034345400396834175\n",
      "Cреднеквадратичное отклонение:  0.18532512079271438\n",
      "Значение хи-квадрат:  23.348172335112963\n"
     ]
    }
   ],
   "source": [
    "test(gen2(50))"
   ]
  },
  {
   "cell_type": "code",
   "execution_count": 152,
   "metadata": {},
   "outputs": [
    {
     "name": "stdout",
     "output_type": "stream",
     "text": [
      "Мат ожидание:  0.3337545333333334\n",
      "Дисперсия:  0.04119353344895999\n",
      "Cреднеквадратичное отклонение:  0.20296190147158158\n",
      "Значение хи-квадрат:  19.8933671164301\n"
     ]
    }
   ],
   "source": [
    "test(gen2(50))"
   ]
  },
  {
   "cell_type": "code",
   "execution_count": 155,
   "metadata": {},
   "outputs": [
    {
     "name": "stdout",
     "output_type": "stream",
     "text": [
      "Мат ожидание:  0.2162803333333333\n",
      "Дисперсия:  0.019136885861\n",
      "Cреднеквадратичное отклонение:  0.1383361336057937\n",
      "Значение хи-квадрат:  62.14829248339737\n"
     ]
    }
   ],
   "source": [
    "test(gen2(50))"
   ]
  },
  {
   "cell_type": "code",
   "execution_count": 156,
   "metadata": {},
   "outputs": [
    {
     "name": "stdout",
     "output_type": "stream",
     "text": [
      "Мат ожидание:  0.25367806000000004\n",
      "Дисперсия:  0.019994751680234187\n",
      "Cреднеквадратичное отклонение:  0.1414027994073462\n",
      "Значение хи-квадрат:  45.405774885165044\n"
     ]
    }
   ],
   "source": [
    "test(gen2(50))"
   ]
  },
  {
   "cell_type": "code",
   "execution_count": 157,
   "metadata": {},
   "outputs": [
    {
     "name": "stdout",
     "output_type": "stream",
     "text": [
      "Мат ожидание:  0.4964134666666667\n",
      "Дисперсия:  0.06959540704936001\n",
      "Cреднеквадратичное отклонение:  0.26380941425460924\n",
      "Значение хи-квадрат:  14.578282164610314\n"
     ]
    }
   ],
   "source": [
    "test(gen2(50))"
   ]
  },
  {
   "cell_type": "markdown",
   "metadata": {},
   "source": [
    "### Анализ полученных результатов:\n",
    "#### Как видно в большинстве случаев по сгенерированным выборкам можно сказать, что ГПСЧ1 и ГПСЧ2 генерируют вполне случайные числа"
   ]
  },
  {
   "cell_type": "markdown",
   "metadata": {},
   "source": [
    "### Тестирование времени генерации"
   ]
  },
  {
   "cell_type": "code",
   "execution_count": 33,
   "metadata": {},
   "outputs": [],
   "source": [
    "import random\n",
    "import time\n",
    "x=[]\n",
    "y1=[]\n",
    "y2=[]\n",
    "y3=[]\n",
    "def test_time(n):\n",
    "    # принимает n - количество чисел которое нужно сгенерировать, далее добавляет время за которое генерируются числа \n",
    "    # тремя различными способами в три массива - y1, y2 и y3, в x добавляется n \n",
    "    start_time = time.time()\n",
    "    s = gen1(n)\n",
    "    y1.append(time.time() - start_time)\n",
    "    \n",
    "    start_time = time.time()\n",
    "    s = gen2(n)\n",
    "    y2.append(time.time() - start_time)\n",
    "    \n",
    "    start_time = time.time()\n",
    "    s = []\n",
    "    for i in range(n):\n",
    "        s.append(random.randint(0,3000000))\n",
    "    y3.append(time.time() - start_time)\n",
    "    \n",
    "    x.append(n)\n",
    "    "
   ]
  },
  {
   "cell_type": "code",
   "execution_count": 34,
   "metadata": {},
   "outputs": [],
   "source": [
    "test_time(1000)\n",
    "test_time(10000)\n",
    "test_time(50000)\n",
    "test_time(100000)\n",
    "test_time(150000)\n",
    "test_time(200000)\n",
    "test_time(250000)\n",
    "test_time(300000)\n",
    "test_time(350000)\n",
    "test_time(400000)\n",
    "test_time(450000)\n",
    "test_time(500000)\n",
    "test_time(550000)\n",
    "test_time(600000)\n",
    "test_time(650000)\n",
    "test_time(700000)\n",
    "test_time(750000)\n",
    "test_time(800000)\n",
    "test_time(850000)\n",
    "test_time(900000)\n",
    "test_time(950000)\n",
    "test_time(1000000)"
   ]
  },
  {
   "cell_type": "code",
   "execution_count": 35,
   "metadata": {},
   "outputs": [
    {
     "data": {
      "text/plain": [
       "Text(0, 0.5, 'Time, sec (log scale)')"
      ]
     },
     "execution_count": 35,
     "metadata": {},
     "output_type": "execute_result"
    },
    {
     "data": {
      "image/png": "[encoded data removed]",
      "text/plain": [
       "<Figure size 432x288 with 1 Axes>"
      ]
     },
     "metadata": {
      "needs_background": "light"
     },
     "output_type": "display_data"
    }
   ],
   "source": [
    "import matplotlib.pyplot as plt\n",
    "plt.title('Generation speed comparison')\n",
    "plt.yscale('log')\n",
    "plt.plot(x,y1,label=\"gen1\")\n",
    "plt.plot(x,y2,label=\"gen2\")\n",
    "plt.plot(x,y3,label=\"random\")\n",
    "plt.legend(loc='upper left') \n",
    "plt.xlabel('Num of obj')\n",
    "plt.ylabel('Time, sec (log scale)')"
   ]
  },
  {
   "cell_type": "code",
   "execution_count": 36,
   "metadata": {},
   "outputs": [
    {
     "data": {
      "text/plain": [
       "Text(0, 0.5, 'Time, sec')"
      ]
     },
     "execution_count": 36,
     "metadata": {},
     "output_type": "execute_result"
    },
    {
     "data": {
      "image/png": "[encoded data removed]",
      "text/plain": [
       "<Figure size 432x288 with 1 Axes>"
      ]
     },
     "metadata": {
      "needs_background": "light"
     },
     "output_type": "display_data"
    }
   ],
   "source": [
    "plt.title('Generation speed comparison')\n",
    "plt.plot(x,y1,label=\"gen1\")\n",
    "plt.plot(x,y2,label=\"gen2\")\n",
    "plt.plot(x,y3,label=\"random\")\n",
    "plt.legend(loc='upper left') \n",
    "plt.xlabel('Num of obj')\n",
    "plt.ylabel('Time, sec')"
   ]
  },
  {
   "cell_type": "markdown",
   "metadata": {},
   "source": [
    "### Вывод\n",
    "### Как видно из графиков быстрее всего генерирует ГПСЧ1, затем ГПСЧ2 и, наконец, медленее всех функция из стандартной библиотеки random"
   ]
  }
 ],
 "metadata": {
  "kernelspec": {
   "display_name": "Python 3",
   "language": "python",
   "name": "python3"
  },
  "language_info": {
   "codemirror_mode": {
    "name": "ipython",
    "version": 3
   },
   "file_extension": ".py",
   "mimetype": "text/x-python",
   "name": "python",
   "nbconvert_exporter": "python",
   "pygments_lexer": "ipython3",
   "version": "3.7.6"
  }
 },
 "nbformat": 4,
 "nbformat_minor": 4
}
